{
 "cells": [
  {
   "cell_type": "code",
   "execution_count": 1,
   "metadata": {
    "collapsed": true
   },
   "outputs": [],
   "source": [
    "import json\n",
    "import requests\n",
    "from bs4 import BeautifulSoup\n",
    "import pandas as pd\n",
    "import os"
   ]
  },
  {
   "cell_type": "code",
   "execution_count": 2,
   "outputs": [
    {
     "data": {
      "text/plain": "                                                                                                  url  \\\nhttps://www.sanxehot.vn/mua-ban-xe/mercedes--be...  https://www.sanxehot.vn/mua-ban-xe/mercedes--b...   \nhttps://www.sanxehot.vn/mua-ban-xe/mercedes--be...  https://www.sanxehot.vn/mua-ban-xe/mercedes--b...   \nhttps://www.sanxehot.vn/mua-ban-xe/kia-new-sore...  https://www.sanxehot.vn/mua-ban-xe/kia-new-sor...   \nhttps://www.sanxehot.vn/mua-ban-xe/mercedes--be...  https://www.sanxehot.vn/mua-ban-xe/mercedes--b...   \nhttps://www.sanxehot.vn/mua-ban-xe/lexus-rx350-...  https://www.sanxehot.vn/mua-ban-xe/lexus-rx350...   \n\n                                                         type  \nhttps://www.sanxehot.vn/mua-ban-xe/mercedes--be...      Sedan  \nhttps://www.sanxehot.vn/mua-ban-xe/mercedes--be...      Sedan  \nhttps://www.sanxehot.vn/mua-ban-xe/kia-new-sore...  SUV 7 chỗ  \nhttps://www.sanxehot.vn/mua-ban-xe/mercedes--be...      Sedan  \nhttps://www.sanxehot.vn/mua-ban-xe/lexus-rx350-...  SUV 5 chỗ  ",
      "text/html": "<div>\n<style scoped>\n    .dataframe tbody tr th:only-of-type {\n        vertical-align: middle;\n    }\n\n    .dataframe tbody tr th {\n        vertical-align: top;\n    }\n\n    .dataframe thead th {\n        text-align: right;\n    }\n</style>\n<table border=\"1\" class=\"dataframe\">\n  <thead>\n    <tr style=\"text-align: right;\">\n      <th></th>\n      <th>url</th>\n      <th>type</th>\n    </tr>\n  </thead>\n  <tbody>\n    <tr>\n      <th>https://www.sanxehot.vn/mua-ban-xe/mercedes--benz-class-27548.html</th>\n      <td>https://www.sanxehot.vn/mua-ban-xe/mercedes--b...</td>\n      <td>Sedan</td>\n    </tr>\n    <tr>\n      <th>https://www.sanxehot.vn/mua-ban-xe/mercedes--benz-class-27547.html</th>\n      <td>https://www.sanxehot.vn/mua-ban-xe/mercedes--b...</td>\n      <td>Sedan</td>\n    </tr>\n    <tr>\n      <th>https://www.sanxehot.vn/mua-ban-xe/kia-new-sorento-22at-2014-26003.html</th>\n      <td>https://www.sanxehot.vn/mua-ban-xe/kia-new-sor...</td>\n      <td>SUV 7 chỗ</td>\n    </tr>\n    <tr>\n      <th>https://www.sanxehot.vn/mua-ban-xe/mercedes--benz-s400-30at-2016-26002.html</th>\n      <td>https://www.sanxehot.vn/mua-ban-xe/mercedes--b...</td>\n      <td>Sedan</td>\n    </tr>\n    <tr>\n      <th>https://www.sanxehot.vn/mua-ban-xe/lexus-rx350-35at-2011-26000.html</th>\n      <td>https://www.sanxehot.vn/mua-ban-xe/lexus-rx350...</td>\n      <td>SUV 5 chỗ</td>\n    </tr>\n  </tbody>\n</table>\n</div>"
     },
     "execution_count": 2,
     "metadata": {},
     "output_type": "execute_result"
    }
   ],
   "source": [
    "path = '/Users/minhkhoa/Documents/used-cars-prices-prediction/data/sanxehot/'\n",
    "df = pd.read_json(path + 'sanxehot_links.json').T\n",
    "df.head()"
   ],
   "metadata": {
    "collapsed": false,
    "pycharm": {
     "name": "#%%\n"
    }
   }
  },
  {
   "cell_type": "code",
   "execution_count": 3,
   "outputs": [
    {
     "data": {
      "text/plain": "array(['Sedan', 'SUV 7 chỗ', 'SUV 5 chỗ', 'Hatchback', 'Bán tải',\n       '7 chỗ đa dụng', '16 chỗ', 'Coupe', ''], dtype=object)"
     },
     "execution_count": 3,
     "metadata": {},
     "output_type": "execute_result"
    }
   ],
   "source": [
    "df.type.unique()"
   ],
   "metadata": {
    "collapsed": false,
    "pycharm": {
     "name": "#%%\n"
    }
   }
  },
  {
   "cell_type": "code",
   "execution_count": 4,
   "outputs": [
    {
     "data": {
      "text/plain": "url     https://www.sanxehot.vn/mua-ban-xe/ford-fiesta...\ntype                                                Sedan\nName: https://www.sanxehot.vn/mua-ban-xe/ford-fiesta-16at-2011-25854.html, dtype: object"
     },
     "execution_count": 4,
     "metadata": {},
     "output_type": "execute_result"
    }
   ],
   "source": [
    "df.iloc[7845]"
   ],
   "metadata": {
    "collapsed": false,
    "pycharm": {
     "name": "#%%\n"
    }
   }
  },
  {
   "cell_type": "code",
   "execution_count": 5,
   "outputs": [
    {
     "name": "stdout",
     "output_type": "stream",
     "text": [
      "7846\n"
     ]
    }
   ],
   "source": [
    "print(len(df))"
   ],
   "metadata": {
    "collapsed": false,
    "pycharm": {
     "name": "#%%\n"
    }
   }
  },
  {
   "cell_type": "code",
   "execution_count": 15,
   "outputs": [],
   "source": [
    "HEADERS = {\n",
    "    \"User-Agent\": \"Mozilla/5.0 (Macintosh; Intel Mac OS X 10.11; rv:46.0) \"\n",
    "                  \"Gecko/20100101 Firefox/46.0\",\n",
    "    \"Accept\": \"text/html,application/xhtml+xml,application/xml;q=0.9,*/*;q=0.8\",\n",
    "    \"Accept-Language\": \"en-US,en;q=0.5\",\n",
    "    \"Connection\": \"keep-alive\",\n",
    "    \"Cache-Control\": \"max-age=0\"\n",
    "}\n",
    "\n",
    "class SanXeHotCrawler:\n",
    "    def __init__(self):\n",
    "        self.df = pd.read_json(path + 'sanxehot_links.json').T\n",
    "\n",
    "    def crawl(self):\n",
    "        car_df = pd.DataFrame(columns=['name', 'brand', 'source_url', 'type', 'origin', 'km_driven',\n",
    "                                       'external_color','seats', 'engine_capacity', 'fuels',\n",
    "                                       'transmission', 'wheel_drive', 'price', 'year'])\n",
    "\n",
    "        num = 0\n",
    "        for i in range(0, 101):\n",
    "            url = df.iloc[i]['url']\n",
    "            type = df.iloc[i]['type']\n",
    "            req = requests.get(url, headers=HEADERS).text\n",
    "            soup = BeautifulSoup(req, 'lxml')\n",
    "            body_page = soup.find('table', class_='info').tbody\n",
    "            car_feature = body_page.find_all('td')\n",
    "\n",
    "            gia = car_feature[0].text\n",
    "            gia = gia.replace(',', '')\n",
    "            if 'triệu' in gia:\n",
    "                price = gia.replace(' triệu', '000000')\n",
    "            elif 'tỷ' in gia:\n",
    "                price = gia.replace(' tỷ', '000000')\n",
    "\n",
    "            name = car_feature[2].text\n",
    "            year = car_feature[4].text\n",
    "            # if len(nam) > 1:\n",
    "            #     year = nam[-1]\n",
    "            # else:\n",
    "            #     year = nam[0]\n",
    "\n",
    "            km_driven = car_feature[6].text.split()[0]\n",
    "            km_driven = km_driven.replace('.', '')\n",
    "\n",
    "            dong_co = car_feature[8].text.split()\n",
    "            if len(dong_co) == 2:\n",
    "                fuels = dong_co[0]\n",
    "                engine_capacity = dong_co[1].split('L')[0]\n",
    "            else:\n",
    "                fuels = dong_co[0]\n",
    "                engine_capacity = None\n",
    "\n",
    "            transmission = car_feature[10].text\n",
    "            origin = car_feature[12].text\n",
    "            external_color = car_feature[14].text\n",
    "\n",
    "            car_df = car_df.append(pd.Series({'name': name, 'brand': None, 'source_url': url, 'type': type,\n",
    "                                              'origin': origin, 'km_driven': km_driven, 'external_color': external_color,\n",
    "                                              'seats': None, 'engine_capacity': engine_capacity, 'fuels': fuels,\n",
    "                                              'transmission': transmission, 'wheel_drive': None,\n",
    "                                              'price': price, 'year': year}), ignore_index=True)\n",
    "            num += 1\n",
    "            print(num)\n",
    "\n",
    "        return car_df"
   ],
   "metadata": {
    "collapsed": false,
    "pycharm": {
     "name": "#%%\n"
    }
   }
  },
  {
   "cell_type": "code",
   "execution_count": 16,
   "outputs": [
    {
     "name": "stdout",
     "output_type": "stream",
     "text": [
      "1\n",
      "2\n",
      "3\n",
      "4\n",
      "5\n",
      "6\n",
      "7\n",
      "8\n",
      "9\n",
      "10\n",
      "11\n",
      "12\n",
      "13\n",
      "14\n",
      "15\n",
      "16\n",
      "17\n",
      "18\n",
      "19\n",
      "20\n",
      "21\n",
      "22\n",
      "23\n",
      "24\n",
      "25\n",
      "26\n",
      "27\n",
      "28\n",
      "29\n",
      "30\n",
      "31\n",
      "32\n",
      "33\n",
      "34\n",
      "35\n",
      "36\n",
      "37\n",
      "38\n",
      "39\n",
      "40\n",
      "41\n",
      "42\n",
      "43\n",
      "44\n",
      "45\n",
      "46\n",
      "47\n",
      "48\n",
      "49\n",
      "50\n",
      "51\n",
      "52\n",
      "53\n",
      "54\n",
      "55\n",
      "56\n",
      "57\n",
      "58\n",
      "59\n",
      "60\n",
      "61\n",
      "62\n",
      "63\n",
      "64\n",
      "65\n",
      "66\n",
      "67\n",
      "68\n",
      "69\n",
      "70\n",
      "71\n",
      "72\n",
      "73\n",
      "74\n",
      "75\n",
      "76\n",
      "77\n",
      "78\n",
      "79\n",
      "80\n",
      "81\n",
      "82\n",
      "83\n",
      "84\n",
      "85\n",
      "86\n",
      "87\n",
      "88\n",
      "89\n",
      "90\n",
      "91\n",
      "92\n",
      "93\n",
      "94\n",
      "95\n",
      "96\n",
      "97\n",
      "98\n",
      "99\n",
      "100\n",
      "101\n"
     ]
    }
   ],
   "source": [
    "cars = SanXeHotCrawler().crawl()"
   ],
   "metadata": {
    "collapsed": false,
    "pycharm": {
     "name": "#%%\n"
    }
   }
  },
  {
   "cell_type": "code",
   "execution_count": 1,
   "outputs": [
    {
     "ename": "NameError",
     "evalue": "name 'cars' is not defined",
     "output_type": "error",
     "traceback": [
      "\u001B[0;31m---------------------------------------------------------------------------\u001B[0m",
      "\u001B[0;31mNameError\u001B[0m                                 Traceback (most recent call last)",
      "\u001B[0;32m/var/folders/1l/63q6w_dx5353hwf9khp4cnw80000gn/T/ipykernel_53014/2421335336.py\u001B[0m in \u001B[0;36m<module>\u001B[0;34m\u001B[0m\n\u001B[0;32m----> 1\u001B[0;31m \u001B[0mcars\u001B[0m\u001B[0;34m\u001B[0m\u001B[0;34m\u001B[0m\u001B[0m\n\u001B[0m",
      "\u001B[0;31mNameError\u001B[0m: name 'cars' is not defined"
     ]
    }
   ],
   "source": [],
   "metadata": {
    "collapsed": false,
    "pycharm": {
     "name": "#%%\n"
    }
   }
  },
  {
   "cell_type": "code",
   "execution_count": 19,
   "outputs": [],
   "source": [
    "cars.to_csv(path + 'test_df1.csv')"
   ],
   "metadata": {
    "collapsed": false,
    "pycharm": {
     "name": "#%%\n"
    }
   }
  },
  {
   "cell_type": "code",
   "execution_count": null,
   "outputs": [],
   "source": [],
   "metadata": {
    "collapsed": false,
    "pycharm": {
     "name": "#%%\n"
    }
   }
  }
 ],
 "metadata": {
  "kernelspec": {
   "display_name": "Python 3",
   "language": "python",
   "name": "python3"
  },
  "language_info": {
   "codemirror_mode": {
    "name": "ipython",
    "version": 2
   },
   "file_extension": ".py",
   "mimetype": "text/x-python",
   "name": "python",
   "nbconvert_exporter": "python",
   "pygments_lexer": "ipython2",
   "version": "2.7.6"
  }
 },
 "nbformat": 4,
 "nbformat_minor": 0
}