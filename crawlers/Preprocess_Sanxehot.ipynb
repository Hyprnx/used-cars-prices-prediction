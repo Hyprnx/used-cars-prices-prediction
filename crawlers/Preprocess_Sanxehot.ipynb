{
 "cells": [
  {
   "cell_type": "code",
   "execution_count": 55,
   "metadata": {
    "collapsed": true
   },
   "outputs": [],
   "source": [
    "import pandas as pd\n",
    "import numpy as np\n",
    "import json"
   ]
  },
  {
   "cell_type": "code",
   "execution_count": 51,
   "outputs": [],
   "source": [
    "path = '/Users/minhkhoa/Documents/used-cars-prices-prediction/data/sanxehot/'"
   ],
   "metadata": {
    "collapsed": false,
    "pycharm": {
     "name": "#%%\n"
    }
   }
  },
  {
   "cell_type": "code",
   "execution_count": 3,
   "outputs": [],
   "source": [
    "cars_detail = pd.read_csv(path + 'Cars_Detail.csv')"
   ],
   "metadata": {
    "collapsed": false,
    "pycharm": {
     "name": "#%%\n"
    }
   }
  },
  {
   "cell_type": "code",
   "execution_count": 4,
   "outputs": [
    {
     "data": {
      "text/plain": "                       name  brand  \\\n0     Mercedes-Benz C-class    NaN   \n1     Mercedes-Benz C-class    NaN   \n2               KIA Sorento    NaN   \n3     Mercedes-Benz S-class    NaN   \n4                  Lexus RX    NaN   \n...                     ...    ...   \n7840                Mazda 3    NaN   \n7841              Kia Forte    NaN   \n7842                Audi Q3    NaN   \n7843          Toyota Innova    NaN   \n7844            Ford Fiesta    NaN   \n\n                                             source_url       type  \\\n0     https://www.sanxehot.vn/mua-ban-xe/mercedes--b...      Sedan   \n1     https://www.sanxehot.vn/mua-ban-xe/mercedes--b...      Sedan   \n2     https://www.sanxehot.vn/mua-ban-xe/kia-new-sor...  SUV 7 chỗ   \n3     https://www.sanxehot.vn/mua-ban-xe/mercedes--b...      Sedan   \n4     https://www.sanxehot.vn/mua-ban-xe/lexus-rx350...  SUV 5 chỗ   \n...                                                 ...        ...   \n7840  https://www.sanxehot.vn/mua-ban-xe/mazda-3-20a...  Hatchback   \n7841  https://www.sanxehot.vn/mua-ban-xe/kia-forte-1...      Sedan   \n7842  https://www.sanxehot.vn/mua-ban-xe/audi-q3-201...  SUV 5 chỗ   \n7843  https://www.sanxehot.vn/mua-ban-xe/toyota-inno...  SUV 7 chỗ   \n7844  https://www.sanxehot.vn/mua-ban-xe/ford-fiesta...      Sedan   \n\n                  origin  km_driven external_color  seats engine_capacity  \\\n0              Nhập khẩu          0        Ghi xám    NaN             NaN   \n1              Nhập khẩu          0        Ghi xám    NaN             NaN   \n2     Lắp ráp trong nước      49000            Bạc    NaN             2.2   \n3     Lắp ráp trong nước      20000            Đen    NaN             3.0   \n4              Nhập khẩu      30000          Trắng    NaN             3.5   \n...                  ...        ...            ...    ...             ...   \n7840           Nhập khẩu      50000             Đỏ    NaN             2.0   \n7841           Nhập khẩu      60000        Ghi xám    NaN             1.6   \n7842           Nhập khẩu      35000          Trắng    NaN             2.0   \n7843  Lắp ráp trong nước       8000            Bạc    NaN             2.0   \n7844  Lắp ráp trong nước      70000            Bạc    NaN             1.6   \n\n     fuels transmission  wheel_drive       price        year  \n0     Xăng       Số sàn          NaN    55000000  Trước 1980  \n1     Xăng       Số sàn          NaN    55000000  Trước 1980  \n2     Xăng      Tự động          NaN   810000000        2014  \n3     Xăng      Tự động          NaN  3790000000        2016  \n4     Xăng      Tự động          NaN  2190000000        2011  \n...    ...          ...          ...         ...         ...  \n7840  Xăng      Tự động          NaN   500000000        2010  \n7841  Xăng      Tự động          NaN   425000000        2011  \n7842  Xăng      Tự động          NaN  1300000000        2012  \n7843  Xăng       Số sàn          NaN   460000000        2008  \n7844  Xăng      Tự động          NaN   395000000        2011  \n\n[7845 rows x 14 columns]",
      "text/html": "<div>\n<style scoped>\n    .dataframe tbody tr th:only-of-type {\n        vertical-align: middle;\n    }\n\n    .dataframe tbody tr th {\n        vertical-align: top;\n    }\n\n    .dataframe thead th {\n        text-align: right;\n    }\n</style>\n<table border=\"1\" class=\"dataframe\">\n  <thead>\n    <tr style=\"text-align: right;\">\n      <th></th>\n      <th>name</th>\n      <th>brand</th>\n      <th>source_url</th>\n      <th>type</th>\n      <th>origin</th>\n      <th>km_driven</th>\n      <th>external_color</th>\n      <th>seats</th>\n      <th>engine_capacity</th>\n      <th>fuels</th>\n      <th>transmission</th>\n      <th>wheel_drive</th>\n      <th>price</th>\n      <th>year</th>\n    </tr>\n  </thead>\n  <tbody>\n    <tr>\n      <th>0</th>\n      <td>Mercedes-Benz C-class</td>\n      <td>NaN</td>\n      <td>https://www.sanxehot.vn/mua-ban-xe/mercedes--b...</td>\n      <td>Sedan</td>\n      <td>Nhập khẩu</td>\n      <td>0</td>\n      <td>Ghi xám</td>\n      <td>NaN</td>\n      <td>NaN</td>\n      <td>Xăng</td>\n      <td>Số sàn</td>\n      <td>NaN</td>\n      <td>55000000</td>\n      <td>Trước 1980</td>\n    </tr>\n    <tr>\n      <th>1</th>\n      <td>Mercedes-Benz C-class</td>\n      <td>NaN</td>\n      <td>https://www.sanxehot.vn/mua-ban-xe/mercedes--b...</td>\n      <td>Sedan</td>\n      <td>Nhập khẩu</td>\n      <td>0</td>\n      <td>Ghi xám</td>\n      <td>NaN</td>\n      <td>NaN</td>\n      <td>Xăng</td>\n      <td>Số sàn</td>\n      <td>NaN</td>\n      <td>55000000</td>\n      <td>Trước 1980</td>\n    </tr>\n    <tr>\n      <th>2</th>\n      <td>KIA Sorento</td>\n      <td>NaN</td>\n      <td>https://www.sanxehot.vn/mua-ban-xe/kia-new-sor...</td>\n      <td>SUV 7 chỗ</td>\n      <td>Lắp ráp trong nước</td>\n      <td>49000</td>\n      <td>Bạc</td>\n      <td>NaN</td>\n      <td>2.2</td>\n      <td>Xăng</td>\n      <td>Tự động</td>\n      <td>NaN</td>\n      <td>810000000</td>\n      <td>2014</td>\n    </tr>\n    <tr>\n      <th>3</th>\n      <td>Mercedes-Benz S-class</td>\n      <td>NaN</td>\n      <td>https://www.sanxehot.vn/mua-ban-xe/mercedes--b...</td>\n      <td>Sedan</td>\n      <td>Lắp ráp trong nước</td>\n      <td>20000</td>\n      <td>Đen</td>\n      <td>NaN</td>\n      <td>3.0</td>\n      <td>Xăng</td>\n      <td>Tự động</td>\n      <td>NaN</td>\n      <td>3790000000</td>\n      <td>2016</td>\n    </tr>\n    <tr>\n      <th>4</th>\n      <td>Lexus RX</td>\n      <td>NaN</td>\n      <td>https://www.sanxehot.vn/mua-ban-xe/lexus-rx350...</td>\n      <td>SUV 5 chỗ</td>\n      <td>Nhập khẩu</td>\n      <td>30000</td>\n      <td>Trắng</td>\n      <td>NaN</td>\n      <td>3.5</td>\n      <td>Xăng</td>\n      <td>Tự động</td>\n      <td>NaN</td>\n      <td>2190000000</td>\n      <td>2011</td>\n    </tr>\n    <tr>\n      <th>...</th>\n      <td>...</td>\n      <td>...</td>\n      <td>...</td>\n      <td>...</td>\n      <td>...</td>\n      <td>...</td>\n      <td>...</td>\n      <td>...</td>\n      <td>...</td>\n      <td>...</td>\n      <td>...</td>\n      <td>...</td>\n      <td>...</td>\n      <td>...</td>\n    </tr>\n    <tr>\n      <th>7840</th>\n      <td>Mazda 3</td>\n      <td>NaN</td>\n      <td>https://www.sanxehot.vn/mua-ban-xe/mazda-3-20a...</td>\n      <td>Hatchback</td>\n      <td>Nhập khẩu</td>\n      <td>50000</td>\n      <td>Đỏ</td>\n      <td>NaN</td>\n      <td>2.0</td>\n      <td>Xăng</td>\n      <td>Tự động</td>\n      <td>NaN</td>\n      <td>500000000</td>\n      <td>2010</td>\n    </tr>\n    <tr>\n      <th>7841</th>\n      <td>Kia Forte</td>\n      <td>NaN</td>\n      <td>https://www.sanxehot.vn/mua-ban-xe/kia-forte-1...</td>\n      <td>Sedan</td>\n      <td>Nhập khẩu</td>\n      <td>60000</td>\n      <td>Ghi xám</td>\n      <td>NaN</td>\n      <td>1.6</td>\n      <td>Xăng</td>\n      <td>Tự động</td>\n      <td>NaN</td>\n      <td>425000000</td>\n      <td>2011</td>\n    </tr>\n    <tr>\n      <th>7842</th>\n      <td>Audi Q3</td>\n      <td>NaN</td>\n      <td>https://www.sanxehot.vn/mua-ban-xe/audi-q3-201...</td>\n      <td>SUV 5 chỗ</td>\n      <td>Nhập khẩu</td>\n      <td>35000</td>\n      <td>Trắng</td>\n      <td>NaN</td>\n      <td>2.0</td>\n      <td>Xăng</td>\n      <td>Tự động</td>\n      <td>NaN</td>\n      <td>1300000000</td>\n      <td>2012</td>\n    </tr>\n    <tr>\n      <th>7843</th>\n      <td>Toyota Innova</td>\n      <td>NaN</td>\n      <td>https://www.sanxehot.vn/mua-ban-xe/toyota-inno...</td>\n      <td>SUV 7 chỗ</td>\n      <td>Lắp ráp trong nước</td>\n      <td>8000</td>\n      <td>Bạc</td>\n      <td>NaN</td>\n      <td>2.0</td>\n      <td>Xăng</td>\n      <td>Số sàn</td>\n      <td>NaN</td>\n      <td>460000000</td>\n      <td>2008</td>\n    </tr>\n    <tr>\n      <th>7844</th>\n      <td>Ford Fiesta</td>\n      <td>NaN</td>\n      <td>https://www.sanxehot.vn/mua-ban-xe/ford-fiesta...</td>\n      <td>Sedan</td>\n      <td>Lắp ráp trong nước</td>\n      <td>70000</td>\n      <td>Bạc</td>\n      <td>NaN</td>\n      <td>1.6</td>\n      <td>Xăng</td>\n      <td>Tự động</td>\n      <td>NaN</td>\n      <td>395000000</td>\n      <td>2011</td>\n    </tr>\n  </tbody>\n</table>\n<p>7845 rows × 14 columns</p>\n</div>"
     },
     "execution_count": 4,
     "metadata": {},
     "output_type": "execute_result"
    }
   ],
   "source": [
    "cars_detail"
   ],
   "metadata": {
    "collapsed": false,
    "pycharm": {
     "name": "#%%\n"
    }
   }
  },
  {
   "cell_type": "code",
   "execution_count": 5,
   "outputs": [],
   "source": [
    "cars_detail = cars_detail[cars_detail.type != '16 chỗ']\n",
    "cars_detail = cars_detail[cars_detail.km_driven != 0]"
   ],
   "metadata": {
    "collapsed": false,
    "pycharm": {
     "name": "#%%\n"
    }
   }
  },
  {
   "cell_type": "code",
   "execution_count": 6,
   "outputs": [],
   "source": [
    "cars_detail.replace('Nhập khẩu', 'imported', inplace=True)\n",
    "cars_detail.replace('Lắp ráp trong nước', 'domestic', inplace=True)"
   ],
   "metadata": {
    "collapsed": false,
    "pycharm": {
     "name": "#%%\n"
    }
   }
  },
  {
   "cell_type": "code",
   "execution_count": 7,
   "outputs": [
    {
     "data": {
      "text/plain": "name               None\nbrand              None\nsource_url         None\ntype               None\norigin             None\nkm_driven          None\nexternal_color     None\nseats              None\nengine_capacity    None\nfuels              None\ntransmission       None\nwheel_drive        None\nprice              None\nyear               None\ndtype: object"
     },
     "execution_count": 7,
     "metadata": {},
     "output_type": "execute_result"
    }
   ],
   "source": [
    "cars_detail.replace('Xăng', 'gasoline', inplace=True)\n",
    "cars_detail.replace('Diesel', 'diesel', inplace=True)\n",
    "cars_detail.replace('Hybid', 'hybrid', inplace=True)\n",
    "cars_detail.replace('Điện', 'electric', inplace=True)\n",
    "cars_detail.replace('Khác', None, inplace=True)"
   ],
   "metadata": {
    "collapsed": false,
    "pycharm": {
     "name": "#%%\n"
    }
   }
  },
  {
   "cell_type": "code",
   "execution_count": 8,
   "outputs": [],
   "source": [
    "cars_detail.replace('Số sàn', 'manual', inplace=True)\n",
    "cars_detail.replace('Tự động', 'automatic', inplace=True)\n",
    "cars_detail.replace('Vô cấp', 'automatic', inplace=True)"
   ],
   "metadata": {
    "collapsed": false,
    "pycharm": {
     "name": "#%%\n"
    }
   }
  },
  {
   "cell_type": "code",
   "execution_count": 9,
   "outputs": [],
   "source": [
    "cars_detail.replace('Trước 1980', 1980, inplace=True)"
   ],
   "metadata": {
    "collapsed": false,
    "pycharm": {
     "name": "#%%\n"
    }
   }
  },
  {
   "cell_type": "code",
   "execution_count": 10,
   "outputs": [],
   "source": [
    "cars_detail['brand'] = cars_detail['name'].str.split(n=1, expand=True)[0]"
   ],
   "metadata": {
    "collapsed": false,
    "pycharm": {
     "name": "#%%\n"
    }
   }
  },
  {
   "cell_type": "code",
   "execution_count": 11,
   "outputs": [],
   "source": [
    "cars_detail.brand.replace('Land', 'Land Rover', inplace=True)\n",
    "cars_detail.brand.replace('Mercedes-Benz', 'Mercedes Benz', inplace=True)\n"
   ],
   "metadata": {
    "collapsed": false,
    "pycharm": {
     "name": "#%%\n"
    }
   }
  },
  {
   "cell_type": "code",
   "execution_count": 12,
   "outputs": [],
   "source": [
    "cars_detail.replace('1.0l', '1', inplace=True)\n",
    "cars_detail.replace('1.25l', '1.25', inplace=True)\n",
    "cars_detail.replace('1.2AT', '1.2', inplace=True)\n",
    "cars_detail.replace('1.2l', '1.2', inplace=True)\n",
    "cars_detail.replace('1.5G', '1.5', inplace=True)\n",
    "cars_detail.replace('1.6cm3', '1.6', inplace=True)\n",
    "cars_detail.replace('1.8AT', '1.8', inplace=True)\n",
    "cars_detail.replace('1.8l', '1.8', inplace=True)\n",
    "cars_detail.replace('1600', '1.6', inplace=True)\n",
    "cars_detail.replace('1998', '2', inplace=True)\n",
    "cars_detail.replace('2..4', '2.4', inplace=True)\n",
    "cars_detail.replace('2.0AT', '2', inplace=True)\n",
    "cars_detail.replace('2.0l', '2', inplace=True)\n",
    "cars_detail.replace('2.4AT', '2.4', inplace=True)\n",
    "cars_detail.replace('2.4l', '2.4', inplace=True)\n",
    "cars_detail.replace('2.7V', '2.7', inplace=True)\n",
    "cars_detail.replace('2.7l', '2.7', inplace=True)\n",
    "cars_detail.replace('2000', '2', inplace=True)\n",
    "cars_detail.replace('222222', '2.2', inplace=True)\n",
    "cars_detail.replace('3900', '3.9', inplace=True)\n",
    "cars_detail.replace('4.4l', '4.4', inplace=True)\n",
    "cars_detail.replace('5000', '5', inplace=True)\n",
    "cars_detail.replace('V8', '4.7', inplace=True)"
   ],
   "metadata": {
    "collapsed": false,
    "pycharm": {
     "name": "#%%\n"
    }
   }
  },
  {
   "cell_type": "code",
   "execution_count": 13,
   "outputs": [],
   "source": [
    "cars_detail.replace('2009\\t', '2009', inplace=True)\n",
    "cars_detail.replace('2', '2000', inplace=True)\n",
    "cars_detail.replace('2.0L', '2010', inplace=True)\n",
    "cars_detail.replace('2007\\t', '2007', inplace=True)\n",
    "cars_detail.replace('20008', '2008', inplace=True)\n",
    "cars_detail.replace('20114', '2014', inplace=True)\n",
    "cars_detail.replace('2011\\t', '2011', inplace=True)\n",
    "cars_detail.replace('2011\\t\\t', '2011', inplace=True)\n",
    "cars_detail.replace('12/2014', '2014', inplace=True)"
   ],
   "metadata": {
    "collapsed": false,
    "pycharm": {
     "name": "#%%\n"
    }
   }
  },
  {
   "cell_type": "code",
   "execution_count": 14,
   "outputs": [
    {
     "data": {
      "text/plain": "array(['SUV 7 chỗ', 'Sedan', 'SUV 5 chỗ', 'Hatchback', 'Bán tải',\n       '7 chỗ đa dụng', 'Coupe', nan], dtype=object)"
     },
     "execution_count": 14,
     "metadata": {},
     "output_type": "execute_result"
    }
   ],
   "source": [
    "cars_detail.type.unique()"
   ],
   "metadata": {
    "collapsed": false,
    "pycharm": {
     "name": "#%%\n"
    }
   }
  },
  {
   "cell_type": "code",
   "execution_count": 15,
   "outputs": [],
   "source": [
    "cars_detail.seats = cars_detail.type.copy()"
   ],
   "metadata": {
    "collapsed": false,
    "pycharm": {
     "name": "#%%\n"
    }
   }
  },
  {
   "cell_type": "code",
   "execution_count": 16,
   "outputs": [],
   "source": [
    "cars_detail.seats.replace('Sedan', 5, inplace=True)\n",
    "cars_detail.seats.replace('SUV 7 chỗ', 7, inplace=True)\n",
    "cars_detail.seats.replace('SUV 5 chỗ', 5, inplace=True)\n",
    "cars_detail.seats.replace('Hatchback', 4, inplace=True)\n",
    "cars_detail.seats.replace('Bán tải', 4, inplace=True)\n",
    "cars_detail.seats.replace('7 chỗ đa dụng', 7, inplace=True)\n",
    "cars_detail.seats.replace('Coupe', 4, inplace=True)"
   ],
   "metadata": {
    "collapsed": false,
    "pycharm": {
     "name": "#%%\n"
    }
   }
  },
  {
   "cell_type": "code",
   "execution_count": 17,
   "outputs": [],
   "source": [
    "cars_detail.type.replace('Sedan', 'sedan', inplace=True)\n",
    "cars_detail.type.replace('SUV 7 chỗ', 'suv', inplace=True)\n",
    "cars_detail.type.replace('SUV 5 chỗ', 'suv', inplace=True)\n",
    "cars_detail.type.replace('Hatchback', 'hatchback', inplace=True)\n",
    "cars_detail.type.replace('Bán tải', 'pickup', inplace=True)\n",
    "cars_detail.type.replace('7 chỗ đa dụng', 'suv', inplace=True)\n",
    "cars_detail.type.replace('Coupe', 'coupe', inplace=True)"
   ],
   "metadata": {
    "collapsed": false,
    "pycharm": {
     "name": "#%%\n"
    }
   }
  },
  {
   "cell_type": "code",
   "execution_count": 18,
   "outputs": [],
   "source": [
    "cars_detail.year = cars_detail.year.astype('float')\n",
    "cars_detail.engine_capacity = cars_detail.engine_capacity.astype('float')"
   ],
   "metadata": {
    "collapsed": false,
    "pycharm": {
     "name": "#%%\n"
    }
   }
  },
  {
   "cell_type": "code",
   "execution_count": 19,
   "outputs": [
    {
     "data": {
      "text/plain": "                       name          brand  \\\n2               KIA Sorento            KIA   \n3     Mercedes-Benz S-class  Mercedes Benz   \n4                  Lexus RX          Lexus   \n5                   Mazda 2          Mazda   \n6               Kia Morning            Kia   \n...                     ...            ...   \n7840                Mazda 3          Mazda   \n7841              Kia Forte            Kia   \n7842                Audi Q3           Audi   \n7843          Toyota Innova         Toyota   \n7844            Ford Fiesta           Ford   \n\n                                             source_url       type    origin  \\\n2     https://www.sanxehot.vn/mua-ban-xe/kia-new-sor...        suv  domestic   \n3     https://www.sanxehot.vn/mua-ban-xe/mercedes--b...      sedan  domestic   \n4     https://www.sanxehot.vn/mua-ban-xe/lexus-rx350...        suv  imported   \n5     https://www.sanxehot.vn/mua-ban-xe/mazda-2s-15...      sedan  domestic   \n6     https://www.sanxehot.vn/mua-ban-xe/kia-morning...  hatchback  imported   \n...                                                 ...        ...       ...   \n7840  https://www.sanxehot.vn/mua-ban-xe/mazda-3-20a...  hatchback  imported   \n7841  https://www.sanxehot.vn/mua-ban-xe/kia-forte-1...      sedan  imported   \n7842  https://www.sanxehot.vn/mua-ban-xe/audi-q3-201...        suv  imported   \n7843  https://www.sanxehot.vn/mua-ban-xe/toyota-inno...        suv  domestic   \n7844  https://www.sanxehot.vn/mua-ban-xe/ford-fiesta...      sedan  domestic   \n\n      km_driven external_color  seats  engine_capacity     fuels transmission  \\\n2         49000            Bạc    7.0              2.2  gasoline    automatic   \n3         20000            Đen    5.0              3.0  gasoline    automatic   \n4         30000          Trắng    5.0              3.5  gasoline    automatic   \n5         41000             Đỏ    5.0              1.5  gasoline    automatic   \n6         33000        Ghi xám    4.0              1.0  gasoline    automatic   \n...         ...            ...    ...              ...       ...          ...   \n7840      50000             Đỏ    4.0              2.0  gasoline    automatic   \n7841      60000        Ghi xám    5.0              1.6  gasoline    automatic   \n7842      35000          Trắng    5.0              2.0  gasoline    automatic   \n7843       8000            Bạc    7.0              2.0  gasoline       manual   \n7844      70000            Bạc    5.0              1.6  gasoline    automatic   \n\n      wheel_drive       price    year  \n2             NaN   810000000  2014.0  \n3             NaN  3790000000  2016.0  \n4             NaN  2190000000  2011.0  \n5             NaN   458000000  2012.0  \n6             NaN   378000000  2011.0  \n...           ...         ...     ...  \n7840          NaN   500000000  2010.0  \n7841          NaN   425000000  2011.0  \n7842          NaN  1300000000  2012.0  \n7843          NaN   460000000  2008.0  \n7844          NaN   395000000  2011.0  \n\n[7741 rows x 14 columns]",
      "text/html": "<div>\n<style scoped>\n    .dataframe tbody tr th:only-of-type {\n        vertical-align: middle;\n    }\n\n    .dataframe tbody tr th {\n        vertical-align: top;\n    }\n\n    .dataframe thead th {\n        text-align: right;\n    }\n</style>\n<table border=\"1\" class=\"dataframe\">\n  <thead>\n    <tr style=\"text-align: right;\">\n      <th></th>\n      <th>name</th>\n      <th>brand</th>\n      <th>source_url</th>\n      <th>type</th>\n      <th>origin</th>\n      <th>km_driven</th>\n      <th>external_color</th>\n      <th>seats</th>\n      <th>engine_capacity</th>\n      <th>fuels</th>\n      <th>transmission</th>\n      <th>wheel_drive</th>\n      <th>price</th>\n      <th>year</th>\n    </tr>\n  </thead>\n  <tbody>\n    <tr>\n      <th>2</th>\n      <td>KIA Sorento</td>\n      <td>KIA</td>\n      <td>https://www.sanxehot.vn/mua-ban-xe/kia-new-sor...</td>\n      <td>suv</td>\n      <td>domestic</td>\n      <td>49000</td>\n      <td>Bạc</td>\n      <td>7.0</td>\n      <td>2.2</td>\n      <td>gasoline</td>\n      <td>automatic</td>\n      <td>NaN</td>\n      <td>810000000</td>\n      <td>2014.0</td>\n    </tr>\n    <tr>\n      <th>3</th>\n      <td>Mercedes-Benz S-class</td>\n      <td>Mercedes Benz</td>\n      <td>https://www.sanxehot.vn/mua-ban-xe/mercedes--b...</td>\n      <td>sedan</td>\n      <td>domestic</td>\n      <td>20000</td>\n      <td>Đen</td>\n      <td>5.0</td>\n      <td>3.0</td>\n      <td>gasoline</td>\n      <td>automatic</td>\n      <td>NaN</td>\n      <td>3790000000</td>\n      <td>2016.0</td>\n    </tr>\n    <tr>\n      <th>4</th>\n      <td>Lexus RX</td>\n      <td>Lexus</td>\n      <td>https://www.sanxehot.vn/mua-ban-xe/lexus-rx350...</td>\n      <td>suv</td>\n      <td>imported</td>\n      <td>30000</td>\n      <td>Trắng</td>\n      <td>5.0</td>\n      <td>3.5</td>\n      <td>gasoline</td>\n      <td>automatic</td>\n      <td>NaN</td>\n      <td>2190000000</td>\n      <td>2011.0</td>\n    </tr>\n    <tr>\n      <th>5</th>\n      <td>Mazda 2</td>\n      <td>Mazda</td>\n      <td>https://www.sanxehot.vn/mua-ban-xe/mazda-2s-15...</td>\n      <td>sedan</td>\n      <td>domestic</td>\n      <td>41000</td>\n      <td>Đỏ</td>\n      <td>5.0</td>\n      <td>1.5</td>\n      <td>gasoline</td>\n      <td>automatic</td>\n      <td>NaN</td>\n      <td>458000000</td>\n      <td>2012.0</td>\n    </tr>\n    <tr>\n      <th>6</th>\n      <td>Kia Morning</td>\n      <td>Kia</td>\n      <td>https://www.sanxehot.vn/mua-ban-xe/kia-morning...</td>\n      <td>hatchback</td>\n      <td>imported</td>\n      <td>33000</td>\n      <td>Ghi xám</td>\n      <td>4.0</td>\n      <td>1.0</td>\n      <td>gasoline</td>\n      <td>automatic</td>\n      <td>NaN</td>\n      <td>378000000</td>\n      <td>2011.0</td>\n    </tr>\n    <tr>\n      <th>...</th>\n      <td>...</td>\n      <td>...</td>\n      <td>...</td>\n      <td>...</td>\n      <td>...</td>\n      <td>...</td>\n      <td>...</td>\n      <td>...</td>\n      <td>...</td>\n      <td>...</td>\n      <td>...</td>\n      <td>...</td>\n      <td>...</td>\n      <td>...</td>\n    </tr>\n    <tr>\n      <th>7840</th>\n      <td>Mazda 3</td>\n      <td>Mazda</td>\n      <td>https://www.sanxehot.vn/mua-ban-xe/mazda-3-20a...</td>\n      <td>hatchback</td>\n      <td>imported</td>\n      <td>50000</td>\n      <td>Đỏ</td>\n      <td>4.0</td>\n      <td>2.0</td>\n      <td>gasoline</td>\n      <td>automatic</td>\n      <td>NaN</td>\n      <td>500000000</td>\n      <td>2010.0</td>\n    </tr>\n    <tr>\n      <th>7841</th>\n      <td>Kia Forte</td>\n      <td>Kia</td>\n      <td>https://www.sanxehot.vn/mua-ban-xe/kia-forte-1...</td>\n      <td>sedan</td>\n      <td>imported</td>\n      <td>60000</td>\n      <td>Ghi xám</td>\n      <td>5.0</td>\n      <td>1.6</td>\n      <td>gasoline</td>\n      <td>automatic</td>\n      <td>NaN</td>\n      <td>425000000</td>\n      <td>2011.0</td>\n    </tr>\n    <tr>\n      <th>7842</th>\n      <td>Audi Q3</td>\n      <td>Audi</td>\n      <td>https://www.sanxehot.vn/mua-ban-xe/audi-q3-201...</td>\n      <td>suv</td>\n      <td>imported</td>\n      <td>35000</td>\n      <td>Trắng</td>\n      <td>5.0</td>\n      <td>2.0</td>\n      <td>gasoline</td>\n      <td>automatic</td>\n      <td>NaN</td>\n      <td>1300000000</td>\n      <td>2012.0</td>\n    </tr>\n    <tr>\n      <th>7843</th>\n      <td>Toyota Innova</td>\n      <td>Toyota</td>\n      <td>https://www.sanxehot.vn/mua-ban-xe/toyota-inno...</td>\n      <td>suv</td>\n      <td>domestic</td>\n      <td>8000</td>\n      <td>Bạc</td>\n      <td>7.0</td>\n      <td>2.0</td>\n      <td>gasoline</td>\n      <td>manual</td>\n      <td>NaN</td>\n      <td>460000000</td>\n      <td>2008.0</td>\n    </tr>\n    <tr>\n      <th>7844</th>\n      <td>Ford Fiesta</td>\n      <td>Ford</td>\n      <td>https://www.sanxehot.vn/mua-ban-xe/ford-fiesta...</td>\n      <td>sedan</td>\n      <td>domestic</td>\n      <td>70000</td>\n      <td>Bạc</td>\n      <td>5.0</td>\n      <td>1.6</td>\n      <td>gasoline</td>\n      <td>automatic</td>\n      <td>NaN</td>\n      <td>395000000</td>\n      <td>2011.0</td>\n    </tr>\n  </tbody>\n</table>\n<p>7741 rows × 14 columns</p>\n</div>"
     },
     "execution_count": 19,
     "metadata": {},
     "output_type": "execute_result"
    }
   ],
   "source": [
    "cars_detail"
   ],
   "metadata": {
    "collapsed": false,
    "pycharm": {
     "name": "#%%\n"
    }
   }
  },
  {
   "cell_type": "code",
   "execution_count": 20,
   "outputs": [
    {
     "data": {
      "text/plain": "array(['suv', 'sedan', 'hatchback', 'pickup', 'coupe', nan], dtype=object)"
     },
     "execution_count": 20,
     "metadata": {},
     "output_type": "execute_result"
    }
   ],
   "source": [
    "cars_detail.type.unique()"
   ],
   "metadata": {
    "collapsed": false,
    "pycharm": {
     "name": "#%%\n"
    }
   }
  },
  {
   "cell_type": "code",
   "execution_count": 21,
   "outputs": [
    {
     "data": {
      "text/plain": "array(['KIA', 'Mercedes Benz', 'Lexus', 'Mazda', 'Kia', 'Chevrolet',\n       'Ford', 'Toyota', 'Audi', 'Hyundai', 'Land Rover', 'Mitsubishi',\n       nan, 'Nissan', 'Suzuki', 'Honda', 'Jaguar', 'Porsche', 'BMW',\n       'Volkswagen', 'MINI', 'Isuzu', 'Infiniti', 'Acura'], dtype=object)"
     },
     "execution_count": 21,
     "metadata": {},
     "output_type": "execute_result"
    }
   ],
   "source": [
    "cars_detail.brand.unique()"
   ],
   "metadata": {
    "collapsed": false,
    "pycharm": {
     "name": "#%%\n"
    }
   }
  },
  {
   "cell_type": "code",
   "execution_count": 22,
   "outputs": [
    {
     "data": {
      "text/plain": "          km_driven        seats  engine_capacity  wheel_drive         price  \\\ncount  7.741000e+03  7738.000000      6528.000000          0.0  7.741000e+03   \nmean   8.294183e+04     5.379168         3.830354          NaN  6.333072e+08   \nstd    1.466739e+06     1.125194        60.552960          NaN  4.530785e+08   \nmin    2.000000e+00     4.000000         0.800000          NaN  1.000000e+06   \n25%    2.695200e+04     5.000000         1.600000          NaN  4.150000e+08   \n50%    4.900000e+04     5.000000         2.000000          NaN  5.300000e+08   \n75%    7.000000e+04     7.000000         2.400000          NaN  7.160000e+08   \nmax    1.100000e+08     7.000000      2000.000000          NaN  7.056000e+09   \n\n              year  \ncount  7740.000000  \nmean   2010.825323  \nstd       3.297691  \nmin    1987.000000  \n25%    2009.000000  \n50%    2011.000000  \n75%    2014.000000  \nmax    2017.000000  ",
      "text/html": "<div>\n<style scoped>\n    .dataframe tbody tr th:only-of-type {\n        vertical-align: middle;\n    }\n\n    .dataframe tbody tr th {\n        vertical-align: top;\n    }\n\n    .dataframe thead th {\n        text-align: right;\n    }\n</style>\n<table border=\"1\" class=\"dataframe\">\n  <thead>\n    <tr style=\"text-align: right;\">\n      <th></th>\n      <th>km_driven</th>\n      <th>seats</th>\n      <th>engine_capacity</th>\n      <th>wheel_drive</th>\n      <th>price</th>\n      <th>year</th>\n    </tr>\n  </thead>\n  <tbody>\n    <tr>\n      <th>count</th>\n      <td>7.741000e+03</td>\n      <td>7738.000000</td>\n      <td>6528.000000</td>\n      <td>0.0</td>\n      <td>7.741000e+03</td>\n      <td>7740.000000</td>\n    </tr>\n    <tr>\n      <th>mean</th>\n      <td>8.294183e+04</td>\n      <td>5.379168</td>\n      <td>3.830354</td>\n      <td>NaN</td>\n      <td>6.333072e+08</td>\n      <td>2010.825323</td>\n    </tr>\n    <tr>\n      <th>std</th>\n      <td>1.466739e+06</td>\n      <td>1.125194</td>\n      <td>60.552960</td>\n      <td>NaN</td>\n      <td>4.530785e+08</td>\n      <td>3.297691</td>\n    </tr>\n    <tr>\n      <th>min</th>\n      <td>2.000000e+00</td>\n      <td>4.000000</td>\n      <td>0.800000</td>\n      <td>NaN</td>\n      <td>1.000000e+06</td>\n      <td>1987.000000</td>\n    </tr>\n    <tr>\n      <th>25%</th>\n      <td>2.695200e+04</td>\n      <td>5.000000</td>\n      <td>1.600000</td>\n      <td>NaN</td>\n      <td>4.150000e+08</td>\n      <td>2009.000000</td>\n    </tr>\n    <tr>\n      <th>50%</th>\n      <td>4.900000e+04</td>\n      <td>5.000000</td>\n      <td>2.000000</td>\n      <td>NaN</td>\n      <td>5.300000e+08</td>\n      <td>2011.000000</td>\n    </tr>\n    <tr>\n      <th>75%</th>\n      <td>7.000000e+04</td>\n      <td>7.000000</td>\n      <td>2.400000</td>\n      <td>NaN</td>\n      <td>7.160000e+08</td>\n      <td>2014.000000</td>\n    </tr>\n    <tr>\n      <th>max</th>\n      <td>1.100000e+08</td>\n      <td>7.000000</td>\n      <td>2000.000000</td>\n      <td>NaN</td>\n      <td>7.056000e+09</td>\n      <td>2017.000000</td>\n    </tr>\n  </tbody>\n</table>\n</div>"
     },
     "execution_count": 22,
     "metadata": {},
     "output_type": "execute_result"
    }
   ],
   "source": [
    "cars_detail.describe()"
   ],
   "metadata": {
    "collapsed": false,
    "pycharm": {
     "name": "#%%\n"
    }
   }
  },
  {
   "cell_type": "code",
   "execution_count": 57,
   "outputs": [],
   "source": [
    "cars_list = cars_detail.to_dict(orient='records')"
   ],
   "metadata": {
    "collapsed": false,
    "pycharm": {
     "name": "#%%\n"
    }
   }
  },
  {
   "cell_type": "code",
   "execution_count": 61,
   "outputs": [],
   "source": [
    "with open(path + \"sanxehot_detail.json\", \"w+\", encoding='utf-8') as f:\n",
    "    json.dump(cars_list, f, indent=4, ensure_ascii=False)"
   ],
   "metadata": {
    "collapsed": false,
    "pycharm": {
     "name": "#%%\n"
    }
   }
  },
  {
   "cell_type": "code",
   "execution_count": null,
   "outputs": [],
   "source": [],
   "metadata": {
    "collapsed": false,
    "pycharm": {
     "name": "#%%\n"
    }
   }
  }
 ],
 "metadata": {
  "kernelspec": {
   "display_name": "Python 3",
   "language": "python",
   "name": "python3"
  },
  "language_info": {
   "codemirror_mode": {
    "name": "ipython",
    "version": 2
   },
   "file_extension": ".py",
   "mimetype": "text/x-python",
   "name": "python",
   "nbconvert_exporter": "python",
   "pygments_lexer": "ipython2",
   "version": "2.7.6"
  }
 },
 "nbformat": 4,
 "nbformat_minor": 0
}
